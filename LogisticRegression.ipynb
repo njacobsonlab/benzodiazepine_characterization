{
  "nbformat": 4,
  "nbformat_minor": 0,
  "metadata": {
    "colab": {
      "provenance": [],
      "machine_shape": "hm"
    },
    "kernelspec": {
      "name": "python3",
      "display_name": "Python 3"
    },
    "language_info": {
      "name": "python"
    },
    "gpuClass": "standard"
  },
  "cells": [
    {
      "cell_type": "markdown",
      "source": [
        "### Hello There!\n",
        "\n",
        "Below is the code for the detection and characterization of benzodiazapines\n",
        "\n",
        "The purpose of this file is to use feature extraction and traditional ML methods on our data\n",
        "\n",
        " Statstical features include: standard deviation, mean, median, max, min, skewness, and kurtosis"
      ],
      "metadata": {
        "id": "QQsJjOkK2XQS"
      }
    },
    {
      "cell_type": "markdown",
      "source": [
        "# Set up"
      ],
      "metadata": {
        "id": "lBwdEaSL2h38"
      }
    },
    {
      "cell_type": "code",
      "execution_count": null,
      "metadata": {
        "id": "cmWn51paRq5k"
      },
      "outputs": [],
      "source": [
        "# Packages\n",
        "import pandas as pd\n",
        "import matplotlib.pyplot as plt\n",
        "import numpy as np\n",
        "import random\n",
        "import tensorflow as tf\n",
        "import os\n",
        "from IPython.display import clear_output\n",
        "\n",
        "# Sklearn\n",
        "from sklearn.preprocessing import MinMaxScaler\n",
        "from sklearn.preprocessing import StandardScaler\n",
        "from sklearn.model_selection import train_test_split\n",
        "from sklearn.utils import class_weight\n",
        "from sklearn.linear_model import LogisticRegression\n",
        "from sklearn.metrics import roc_auc_score\n",
        "\n",
        "# Keras\n",
        "from keras.models import Sequential\n",
        "from keras.layers import LSTM, Dense, Dropout\n",
        "#from keras.layers.embeddings import Embedding\n",
        "from keras.metrics import AUC\n",
        "\n",
        "# Tf\n",
        "import tensorflow as tf\n",
        "from tensorflow import keras\n",
        "from tensorflow.keras import layers\n",
        "from tensorflow.keras.models import Sequential\n",
        "import random\n",
        "\n",
        "# Import Layers\n",
        "from keras.layers import ConvLSTM2D\n",
        "from keras.layers import Dense\n",
        "from keras.layers import Flatten\n",
        "from keras.layers import Dropout\n",
        "from keras.layers import LSTM\n",
        "from keras.layers import Activation\n",
        "from keras.layers import TimeDistributed\n",
        "from keras.layers.convolutional import Conv1D\n",
        "from keras.layers.convolutional import MaxPooling1D\n",
        "from keras.layers.convolutional import MaxPooling3D\n"
      ]
    },
    {
      "cell_type": "code",
      "source": [
        "# Hard Code Random Seeds.\n",
        "r1 = 0\n",
        "r2 = 1\n",
        "\n",
        "# Set Random Seed\n",
        "random.seed(r1)\n",
        "tf.random.set_seed(r2)"
      ],
      "metadata": {
        "id": "S-ijn0vm2l7p"
      },
      "execution_count": null,
      "outputs": []
    },
    {
      "cell_type": "code",
      "source": [
        "#Root folder to save data\n",
        "root = \"/content/drive/MyDrive/Colab Notebooks/Benzos Classification/Reference Models/TSFRESH Data/\""
      ],
      "metadata": {
        "id": "bkyiqeaP2nLq"
      },
      "execution_count": null,
      "outputs": []
    },
    {
      "cell_type": "markdown",
      "source": [
        "# Data Processing"
      ],
      "metadata": {
        "id": "T3zqvltT3Cid"
      }
    },
    {
      "cell_type": "code",
      "source": [
        "from google.colab import drive\n",
        "drive.mount('/content/drive')"
      ],
      "metadata": {
        "colab": {
          "base_uri": "https://localhost:8080/"
        },
        "id": "41CLEZ5d3Dtv",
        "outputId": "e8209293-d16f-495c-a83e-3c8b4904a1e8"
      },
      "execution_count": null,
      "outputs": [
        {
          "output_type": "stream",
          "name": "stdout",
          "text": [
            "Mounted at /content/drive\n"
          ]
        }
      ]
    },
    {
      "cell_type": "code",
      "source": [
        "# Load Data X\n",
        "Wide_X = pd.read_parquet('/content/drive/MyDrive/Colab Notebooks/Benzos Classification/Data/[Smooth]SEQN_WideX.parquet')\n",
        "SEQN = Wide_X['SEQN']\n",
        "Wide_X = Wide_X.drop(columns=['SEQN'])\n",
        "\n",
        "# Process X --------\n",
        "data_wide = Wide_X\n",
        "\n",
        "# Standard Scalar\n",
        "scaler = StandardScaler()\n",
        "scaler.fit(data_wide)\n",
        "data_wide = scaler.transform(data_wide)\n",
        "\n",
        "# Convert DF to array\n",
        "data_wide = pd.DataFrame(data_wide)"
      ],
      "metadata": {
        "id": "axVEPMCu3FBL"
      },
      "execution_count": null,
      "outputs": []
    },
    {
      "cell_type": "code",
      "source": [
        "# Load Data Y\n",
        "## Let's adjust this so not to pull in separate Y data frame; merge on SEQN\n",
        "Y = pd.read_csv('/content/drive/MyDrive/Colab Notebooks/Benzos Classification/Data/new_benzo_y.csv')\n",
        "\n",
        "# Process Y --------\n",
        "# Drop Unnamed Column\n",
        "Y = Y.drop(\"Unnamed: 0\", axis = 1)\n",
        "Y.head()\n",
        "\n",
        "# Change to Y Float\n",
        "Y['Benzo'] = Y['y'].apply(lambda x: float(x))\n",
        "\n",
        "#Make y array as well\n",
        "y = np.hstack(np.asarray(Y.Benzo)).reshape(len(Y),1)"
      ],
      "metadata": {
        "id": "HNT3Jdxj3HqW"
      },
      "execution_count": null,
      "outputs": []
    },
    {
      "cell_type": "markdown",
      "source": [
        "Numbers"
      ],
      "metadata": {
        "id": "UsX4NDEi3X6r"
      }
    },
    {
      "cell_type": "code",
      "source": [
        "# Shape Analysis\n",
        "print(\"shape of X:\", data_wide.shape)\n",
        "print(\"shape of y:\", y.shape)\n",
        "# Class Analysis\n",
        "benzoUse = int(sum(y))\n",
        "total = int(len(y))\n",
        "benzoNoUse = int(total-benzoUse)\n",
        "\n",
        "print(\"Benzo Use:\", benzoUse, \"participants\")\n",
        "print(\"Benzo No Use:\", benzoNoUse, \"participants\")"
      ],
      "metadata": {
        "colab": {
          "base_uri": "https://localhost:8080/"
        },
        "id": "61XUy8ET3YnL",
        "outputId": "f120b132-3200-418f-e09c-fd7d9d044aff"
      },
      "execution_count": null,
      "outputs": [
        {
          "output_type": "stream",
          "name": "stdout",
          "text": [
            "shape of X: (7162, 10080)\n",
            "shape of y: (7162, 1)\n",
            "Benzo Use: 137 participants\n",
            "Benzo No Use: 7025 participants\n"
          ]
        }
      ]
    },
    {
      "cell_type": "markdown",
      "source": [
        "Train Test Split"
      ],
      "metadata": {
        "id": "HcbiNOUS3aId"
      }
    },
    {
      "cell_type": "code",
      "source": [
        "# Split\n",
        "X_train, X_test, y_train, y_test = train_test_split(data_wide, y, test_size=0.2, stratify=y, random_state = 19) # Hard coded random seed\n"
      ],
      "metadata": {
        "id": "L9D5Kkjp3b8s"
      },
      "execution_count": null,
      "outputs": []
    },
    {
      "cell_type": "markdown",
      "source": [
        "# Feature Extractor"
      ],
      "metadata": {
        "id": "78k9jdIERejV"
      }
    },
    {
      "cell_type": "code",
      "source": [
        "def statFeatures(dataframe):\n",
        "  '''\n",
        "  Given a dataframe with a time series in wide format:\n",
        "\n",
        "  Creates statistical features based off of time series\n",
        "  These include: Standard Deviation, mean, median, max, min, skewness, and\n",
        "  kurtosis\n",
        "  '''\n",
        "  # Create a feature bucket\n",
        "  df = pd.DataFrame()\n",
        "\n",
        "  # Collect features\n",
        "  # df['std'] = dataframe.std(axis = 1)\n",
        "  df['mean'] = dataframe.mean(axis = 1)\n",
        "  df['median'] = dataframe.median(axis = 1)\n",
        "  df['max'] = dataframe.max(axis = 1)\n",
        "  df['min'] = dataframe.min(axis = 1)\n",
        "  df['skewness'] = dataframe.skew(axis = 1)\n",
        "  df['kurtosis'] = dataframe.kurt(axis = 1)\n",
        "  return df\n",
        "\n",
        "X_test = statFeatures(X_test)"
      ],
      "metadata": {
        "id": "-jxjdOS9Rd7y"
      },
      "execution_count": null,
      "outputs": []
    },
    {
      "cell_type": "markdown",
      "source": [
        "# 10 fold Cross Val"
      ],
      "metadata": {
        "id": "wBPDaepE37pk"
      }
    },
    {
      "cell_type": "code",
      "source": [
        "#@title K-Fold CV Model\n",
        "%%time\n",
        "from sklearn.model_selection import StratifiedKFold\n",
        "\n",
        "# Global Score List Buckets\n",
        "cv_test_scores=[]\n",
        "cv_val_scores=[]\n",
        "\n",
        "# K fold parameters\n",
        "seed = 2\n",
        "kfold = StratifiedKFold(n_splits=10, shuffle=True, random_state=seed)\n",
        "\n",
        "# run K-fold\n",
        "count = 1\n",
        "for train, val in kfold.split(X_train, y_train):\n",
        "\n",
        "  # Create New Training Set\n",
        "  X_training = X_train.iloc[train]\n",
        "  y_training = y_train[train]\n",
        "\n",
        "  X_val = X_train.iloc[val]\n",
        "  y_val = y_train[val]\n",
        "\n",
        "  # Get Features\n",
        "  X_training = statFeatures(X_training)\n",
        "  X_val = statFeatures(X_val)\n",
        "\n",
        "  # Fit model training\n",
        "  clf = LogisticRegression(solver=\"liblinear\", random_state=0).fit(X_training, y_training)\n",
        "\n",
        "  # Test the model on the Training set\n",
        "  print(\"Training\", roc_auc_score(y_training, clf.predict_proba(X_training)[:, 1]))\n",
        "\n",
        "  # Test the model on validation set\n",
        "  print(\"Validation\", roc_auc_score(y_val, clf.predict_proba(X_val)[:, 1]))\n",
        "  cv_val_scores.append(roc_auc_score(y_val, clf.predict_proba(X_val)[:, 1]))\n",
        "\n",
        "  # Test Model on held out test set\n",
        "  print(\"Test\", roc_auc_score(y_test, clf.predict_proba(X_test)[:, 1]))\n",
        "  cv_test_scores.append(roc_auc_score(y_test, clf.predict_proba(X_test)[:, 1]))\n",
        "\n",
        "  # increment\n",
        "  print(\"FINISHED CYCLE NUMBER:\", count)\n",
        "  count += 1\n",
        "\n",
        "# Score Eval\n",
        "print(\"\\nCV Test AUC----------------------------\")\n",
        "print(\"Individual scores:\", cv_test_scores)\n",
        "print(\"Mean:\", np.mean(cv_test_scores))\n",
        "print(\"std:\", np.std(cv_test_scores))\n",
        "print(\"\\nCV Val AUC-----------------------------\")\n",
        "print(\"Individual scores:\", cv_val_scores)\n",
        "print(\"Mean:\", np.mean(cv_val_scores))\n",
        "print(\"std:\", np.std(cv_val_scores))"
      ],
      "metadata": {
        "colab": {
          "base_uri": "https://localhost:8080/"
        },
        "id": "oZ43rjvU3_A9",
        "outputId": "cd06465c-47e1-46c8-c6b3-a7d9fbff9683"
      },
      "execution_count": null,
      "outputs": [
        {
          "output_type": "stream",
          "name": "stderr",
          "text": [
            "/usr/local/lib/python3.9/dist-packages/sklearn/utils/validation.py:1143: DataConversionWarning: A column-vector y was passed when a 1d array was expected. Please change the shape of y to (n_samples, ), for example using ravel().\n",
            "  y = column_or_1d(y, warn=True)\n"
          ]
        },
        {
          "output_type": "stream",
          "name": "stdout",
          "text": [
            "Training 0.7126735018765867\n",
            "Validation 0.8154318990617924\n",
            "Test 0.6858173963437122\n",
            "FINISHED CYCLE NUMBER: 1\n"
          ]
        },
        {
          "output_type": "stream",
          "name": "stderr",
          "text": [
            "/usr/local/lib/python3.9/dist-packages/sklearn/utils/validation.py:1143: DataConversionWarning: A column-vector y was passed when a 1d array was expected. Please change the shape of y to (n_samples, ), for example using ravel().\n",
            "  y = column_or_1d(y, warn=True)\n"
          ]
        },
        {
          "output_type": "stream",
          "name": "stdout",
          "text": [
            "Training 0.7365088496193893\n",
            "Validation 0.6112908443869298\n",
            "Test 0.6884779516358464\n",
            "FINISHED CYCLE NUMBER: 2\n"
          ]
        },
        {
          "output_type": "stream",
          "name": "stderr",
          "text": [
            "/usr/local/lib/python3.9/dist-packages/sklearn/utils/validation.py:1143: DataConversionWarning: A column-vector y was passed when a 1d array was expected. Please change the shape of y to (n_samples, ), for example using ravel().\n",
            "  y = column_or_1d(y, warn=True)\n"
          ]
        },
        {
          "output_type": "stream",
          "name": "stdout",
          "text": [
            "Training 0.7295118477637758\n",
            "Validation 0.659657068909738\n",
            "Test 0.6885042937674516\n",
            "FINISHED CYCLE NUMBER: 3\n"
          ]
        },
        {
          "output_type": "stream",
          "name": "stderr",
          "text": [
            "/usr/local/lib/python3.9/dist-packages/sklearn/utils/validation.py:1143: DataConversionWarning: A column-vector y was passed when a 1d array was expected. Please change the shape of y to (n_samples, ), for example using ravel().\n",
            "  y = column_or_1d(y, warn=True)\n"
          ]
        },
        {
          "output_type": "stream",
          "name": "stdout",
          "text": [
            "Training 0.7273765937005012\n",
            "Validation 0.6944354577806535\n",
            "Test 0.6913492439808229\n",
            "FINISHED CYCLE NUMBER: 4\n"
          ]
        },
        {
          "output_type": "stream",
          "name": "stderr",
          "text": [
            "/usr/local/lib/python3.9/dist-packages/sklearn/utils/validation.py:1143: DataConversionWarning: A column-vector y was passed when a 1d array was expected. Please change the shape of y to (n_samples, ), for example using ravel().\n",
            "  y = column_or_1d(y, warn=True)\n"
          ]
        },
        {
          "output_type": "stream",
          "name": "stdout",
          "text": [
            "Training 0.7321085084581227\n",
            "Validation 0.6483338725331609\n",
            "Test 0.6877930562141088\n",
            "FINISHED CYCLE NUMBER: 5\n"
          ]
        },
        {
          "output_type": "stream",
          "name": "stderr",
          "text": [
            "/usr/local/lib/python3.9/dist-packages/sklearn/utils/validation.py:1143: DataConversionWarning: A column-vector y was passed when a 1d array was expected. Please change the shape of y to (n_samples, ), for example using ravel().\n",
            "  y = column_or_1d(y, warn=True)\n"
          ]
        },
        {
          "output_type": "stream",
          "name": "stdout",
          "text": [
            "Training 0.7161370477565849\n",
            "Validation 0.7958589453251375\n",
            "Test 0.6881355039249776\n",
            "FINISHED CYCLE NUMBER: 6\n"
          ]
        },
        {
          "output_type": "stream",
          "name": "stderr",
          "text": [
            "/usr/local/lib/python3.9/dist-packages/sklearn/utils/validation.py:1143: DataConversionWarning: A column-vector y was passed when a 1d array was expected. Please change the shape of y to (n_samples, ), for example using ravel().\n",
            "  y = column_or_1d(y, warn=True)\n"
          ]
        },
        {
          "output_type": "stream",
          "name": "stdout",
          "text": [
            "Training 0.7178308695018206\n",
            "Validation 0.783888709155613\n",
            "Test 0.6899267688741373\n",
            "FINISHED CYCLE NUMBER: 7\n"
          ]
        },
        {
          "output_type": "stream",
          "name": "stderr",
          "text": [
            "/usr/local/lib/python3.9/dist-packages/sklearn/utils/validation.py:1143: DataConversionWarning: A column-vector y was passed when a 1d array was expected. Please change the shape of y to (n_samples, ), for example using ravel().\n",
            "  y = column_or_1d(y, warn=True)\n"
          ]
        },
        {
          "output_type": "stream",
          "name": "stdout",
          "text": [
            "Training 0.7275124190291284\n",
            "Validation 0.6894208993853121\n",
            "Test 0.6883198988462146\n",
            "FINISHED CYCLE NUMBER: 8\n"
          ]
        },
        {
          "output_type": "stream",
          "name": "stderr",
          "text": [
            "/usr/local/lib/python3.9/dist-packages/sklearn/utils/validation.py:1143: DataConversionWarning: A column-vector y was passed when a 1d array was expected. Please change the shape of y to (n_samples, ), for example using ravel().\n",
            "  y = column_or_1d(y, warn=True)\n"
          ]
        },
        {
          "output_type": "stream",
          "name": "stdout",
          "text": [
            "Training 0.7241747113212409\n",
            "Validation 0.7246845681009383\n",
            "Test 0.6902428744534008\n",
            "FINISHED CYCLE NUMBER: 9\n",
            "Training 0.7204408657552194\n",
            "Validation 0.7476908118619349\n",
            "Test 0.6890574785311627\n",
            "FINISHED CYCLE NUMBER: 10\n",
            "\n",
            "CV Test AUC----------------------------\n",
            "Individual scores: [0.6858173963437122, 0.6884779516358464, 0.6885042937674516, 0.6913492439808229, 0.6877930562141088, 0.6881355039249776, 0.6899267688741373, 0.6883198988462146, 0.6902428744534008, 0.6890574785311627]\n",
            "Mean: 0.6887624466571834\n",
            "std: 0.0014378943685493845\n",
            "\n",
            "CV Val AUC-----------------------------\n",
            "Individual scores: [0.8154318990617924, 0.6112908443869298, 0.659657068909738, 0.6944354577806535, 0.6483338725331609, 0.7958589453251375, 0.783888709155613, 0.6894208993853121, 0.7246845681009383, 0.7476908118619349]\n",
            "Mean: 0.717069307650121\n",
            "std: 0.06467614834803774\n",
            "CPU times: user 32.4 s, sys: 15.2 s, total: 47.6 s\n",
            "Wall time: 40.2 s\n"
          ]
        },
        {
          "output_type": "stream",
          "name": "stderr",
          "text": [
            "/usr/local/lib/python3.9/dist-packages/sklearn/utils/validation.py:1143: DataConversionWarning: A column-vector y was passed when a 1d array was expected. Please change the shape of y to (n_samples, ), for example using ravel().\n",
            "  y = column_or_1d(y, warn=True)\n"
          ]
        }
      ]
    }
  ]
}